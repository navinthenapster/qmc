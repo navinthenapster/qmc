{
 "cells": [
  {
   "cell_type": "markdown",
   "metadata": {},
   "source": [
    "# Diffusion Monte Carlo Method"
   ]
  },
  {
   "cell_type": "markdown",
   "metadata": {},
   "source": [
    "Description of theory and stuff"
   ]
  },
  {
   "cell_type": "markdown",
   "metadata": {},
   "source": [
    "A diffusion monte carlo simulation for the 3-dimensional harmonic oscillator, ground state energy and wave function \n",
    "\n",
    "$$E_0 = \\frac{2}{3}, \\hspace{2em} \\psi_0 = \\frac{e^{-r^2/2}}{(2\\pi)^{3/2}}$$\n",
    "\n",
    "using $m=\\omega=\\hbar=1$"
   ]
  },
  {
   "cell_type": "code",
   "execution_count": 1,
   "metadata": {
    "collapsed": true
   },
   "outputs": [],
   "source": [
    "import numpy as np\n",
    "import numpy.random as random\n",
    "\n",
    "dim = 3"
   ]
  },
  {
   "cell_type": "markdown",
   "metadata": {},
   "source": [
    "Potential of the harmonic oscillator in three dimensions\n",
    "\n",
    "$$V(\\mathbf x) = \\frac{1}{2}\\mathbf x ^2$$"
   ]
  },
  {
   "cell_type": "code",
   "execution_count": 2,
   "metadata": {
    "collapsed": true
   },
   "outputs": [],
   "source": [
    "def pot(x):\n",
    "    return 0.5 * x.dot(x)"
   ]
  },
  {
   "cell_type": "markdown",
   "metadata": {},
   "source": [
    "Set the time step size, the target number of walkers as well as the target number of time steps"
   ]
  },
  {
   "cell_type": "code",
   "execution_count": 95,
   "metadata": {
    "collapsed": true
   },
   "outputs": [],
   "source": [
    "dt = 0.05\n",
    "N_T = 300\n",
    "T_steps = 4000\n",
    "alpha = 0.1"
   ]
  },
  {
   "cell_type": "markdown",
   "metadata": {},
   "source": [
    "The first 20% of the time steps are used as thermalization steps, after that, the measured values are reset and the real simulation continues"
   ]
  },
  {
   "cell_type": "markdown",
   "metadata": {},
   "source": [
    "In a timestep\n",
    "1. Compute one DMC step on each walker\n",
    "2. Remove dead walkers\n",
    "3. Adjust $E_T$ to drive $N$ towards $N_T$\n",
    "4. Accumulate data to measure $\\left<E\\right>$, its variance and the ground state wave function"
   ]
  },
  {
   "cell_type": "code",
   "execution_count": 97,
   "metadata": {
    "collapsed": false
   },
   "outputs": [],
   "source": [
    "# Initialize walkers\n",
    "r = np.zeros((N_T, 3))\n",
    "N = N_T\n",
    "E_T = 0 # initial guess for the ground state energy\n",
    "\n",
    "thermal_steps = int(0.2*T_steps)\n",
    "\n",
    "# Time step\n",
    "for i in range(T_steps):\n",
    "    N_0 = N\n",
    "    \n",
    "    r_new = np.zeros((0,3))\n",
    "    \n",
    "    # Monte Carlo Step\n",
    "    \n",
    "    # Diffusion step\n",
    "    r += random.normal(size=(N_0,3)) * np.sqrt(dt)\n",
    "    \n",
    "    q = np.apply_along_axis(lambda x: np.exp(-dt * (pot(x) - E_T)), 1, r)\n",
    "    \n",
    "    for j in range(N_0):\n",
    "        if q[j] - int(q[j]) > random.uniform():\n",
    "            count_new = int(q[j]) + 1\n",
    "        else:\n",
    "            count_new = int(q[j])\n",
    "        for c in range(count_new):\n",
    "            r_new = np.append(r_new,r[j:j+1,:],axis=0)\n",
    "\n",
    "    N = r_new.shape[0]\n",
    "    r = r_new\n",
    "    \n",
    "    E_T += alpha * np.log(N_T / float(N))"
   ]
  }
 ],
 "metadata": {
  "kernelspec": {
   "display_name": "Python 2",
   "language": "python",
   "name": "python2"
  },
  "language_info": {
   "codemirror_mode": {
    "name": "ipython",
    "version": 2
   },
   "file_extension": ".py",
   "mimetype": "text/x-python",
   "name": "python",
   "nbconvert_exporter": "python",
   "pygments_lexer": "ipython2",
   "version": "2.7.10"
  }
 },
 "nbformat": 4,
 "nbformat_minor": 0
}
