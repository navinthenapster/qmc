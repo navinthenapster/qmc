{
 "cells": [
  {
   "cell_type": "markdown",
   "metadata": {},
   "source": [
    "## Diffusion Monte Carlo Method"
   ]
  },
  {
   "cell_type": "markdown",
   "metadata": {},
   "source": [
    "The goal of the diffusion Monte Carlo method (DMC) is to get to the ground state wave function of a quantum system. Using the eigenstates $\\psi_n$ of a system, every state can be represented as a linear combination of these eigenstates.\n",
    "\n",
    "$$\\Psi(x,0) = \\sum_n c_n \\psi_n(x)$$\n",
    "\n",
    "Using the time propagation operator $U(t, t_0) = e^{-i H (t-t_0)}$, the solution for the real time Schrödinger equation reads\n",
    "\n",
    "$$\\Psi(x,t) = U(t,0)\\Psi(x,0) = \\sum_n c_n e^{-i E_n t / \\hbar } \\psi_n (x).$$\n",
    "\n",
    "When this equation is continued into imaginary time via $t \\rightarrow -i \\tau$, the resulting equation\n",
    "\n",
    "$$\\Psi(x,\\tau) = \\sum_n c_n e^{- E_n \\tau / \\hbar } \\psi_n (x)$$\n",
    "\n",
    "is an exponentially damped equation with the eigenenergies $E_n$ as specific damping coefficients for the separate eigenstates. "
   ]
  },
  {
   "cell_type": "markdown",
   "metadata": {},
   "source": [
    "### Modeling Imaginary Time Propagation as Diffusion"
   ]
  },
  {
   "cell_type": "markdown",
   "metadata": {},
   "source": [
    "The diffusion Monte Carlo Method uses a restated form of the Schrödinger equation as a diffusion equation to calculate the ground state wave function via a Monte Carlo process. The Schrödinger equation for a free particle in one dimension is\n",
    "\n",
    "$$i\\hbar \\frac{\\partial \\psi (x,t)}{\\partial t} = - \\frac{\\hbar ^2}{2m} \\frac{\\partial ^2 \\psi (x,t)}{\\partial x^2}$$\n",
    "\n",
    "and can be rewritten as a diffusion equation \n",
    "\n",
    "$$\\frac{\\partial \\psi (x,t)}{\\partial t} = \\frac{i \\hbar ^2}{2m} \\frac{\\partial ^2 \\psi (x,t)}{\\partial x^2} = \\gamma_{im} \\frac{\\partial ^2 \\psi (x,t)}{\\partial x^2},$$\n",
    "\n",
    "where $\\gamma_{im}$ is the *imaginary diffusion constant* \n",
    "\n",
    "$$\\gamma_{im} = \\frac{i \\hbar ^2}{2m}.$$\n",
    "\n",
    "In order to model the diffusion process and exploit the simulation possibilities, the imaginary diffusion constant has to be turned into a rel constant. Therefore, the operator in real time is analytically continued in imaginary time via\n",
    "\n",
    "$$t \\rightarrow i \\tau,$$\n",
    "\n",
    "leading to a diffusion equation in real space and imaginary time\n",
    "\n",
    "$$\\frac{\\partial \\psi (x,\\tau)}{\\partial \\tau} = \\frac{\\hbar}{2m} \\frac{\\partial ^2 \\psi (x,\\tau)}{\\partial x^2}.$$\n",
    "\n",
    "We can therefore model the motion of a quantum particle in real space by simulation the diffusion of a cloud of particles in imaginary time. **//TODO: explain**"
   ]
  },
  {
   "cell_type": "markdown",
   "metadata": {},
   "source": [
    "### Implementing Diffusion Monte Carlo"
   ]
  },
  {
   "cell_type": "markdown",
   "metadata": {},
   "source": [
    "A diffusion monte carlo simulation for the 3-dimensional harmonic oscillator, ground state energy and wave function \n",
    "\n",
    "$$E_0 = \\frac{2}{3}, \\hspace{2em} \\psi_0 = \\frac{e^{-r^2/2}}{(2\\pi)^{3/2}}$$\n",
    "\n",
    "using $m=\\omega=\\hbar=1$"
   ]
  },
  {
   "cell_type": "code",
   "execution_count": 1,
   "metadata": {
    "collapsed": true
   },
   "outputs": [],
   "source": [
    "import numpy as np\n",
    "import numpy.random as random\n",
    "import matplotlib.pyplot as plt\n",
    "%matplotlib inline\n",
    "\n",
    "dim = 3"
   ]
  },
  {
   "cell_type": "markdown",
   "metadata": {},
   "source": [
    "Potential of the harmonic oscillator in three dimensions\n",
    "\n",
    "$$V(\\mathbf x) = \\frac{1}{2}\\mathbf x ^2$$"
   ]
  },
  {
   "cell_type": "code",
   "execution_count": 2,
   "metadata": {
    "collapsed": true
   },
   "outputs": [],
   "source": [
    "def pot(x):\n",
    "    return 0.5 * x.dot(x)"
   ]
  },
  {
   "cell_type": "markdown",
   "metadata": {},
   "source": [
    "Set the time step size, the target number of walkers as well as the target number of time steps"
   ]
  },
  {
   "cell_type": "code",
   "execution_count": 3,
   "metadata": {
    "collapsed": true
   },
   "outputs": [],
   "source": [
    "dt = 0.05\n",
    "N_T = 300\n",
    "T_steps = 4000\n",
    "alpha = 0.2"
   ]
  },
  {
   "cell_type": "markdown",
   "metadata": {},
   "source": [
    "The first 20% of the time steps are used as thermalization steps, after that, the measured values are reset and the real simulation continues"
   ]
  },
  {
   "cell_type": "markdown",
   "metadata": {},
   "source": [
    "In a timestep\n",
    "1. Compute one DMC step on each walker\n",
    "2. Remove dead walkers\n",
    "3. Adjust $E_T$ to drive $N$ towards $N_T$\n",
    "4. Accumulate data to measure $\\left<E\\right>$, its variance and the ground state wave function"
   ]
  },
  {
   "cell_type": "markdown",
   "metadata": {},
   "source": [
    "In the **diffusion step**, each walker is moved randomly in the search space, in the physical picture due to the kinetic energy term. The random step is choosen from a Gaussian distribution with variance $\\Delta t$."
   ]
  },
  {
   "cell_type": "code",
   "execution_count": 4,
   "metadata": {
    "collapsed": false,
    "scrolled": true
   },
   "outputs": [],
   "source": [
    "def diffusion(r, dt):\n",
    "    return r + random.normal(size=(r.shape[0],3)) * np.sqrt(dt)"
   ]
  },
  {
   "cell_type": "markdown",
   "metadata": {},
   "source": [
    "In the **branching step**, the number of walkers is modified by the parameter $E_T$, in the physical picture due to the potential energy term. The branching is implemented by computing the branching factor $q$ via\n",
    "\n",
    "$$q=e^{-\\Delta\\tau (V(x) - E_T)}$$\n",
    "\n",
    "which then determines if a walker is cloned, survives or dies. If $q<1$, the walker dies with a probability of $1-q$. If $q > 1$, the walker is copied. "
   ]
  },
  {
   "cell_type": "code",
   "execution_count": 5,
   "metadata": {
    "collapsed": true
   },
   "outputs": [],
   "source": [
    "def branching(r, E_T, dt):\n",
    "    \n",
    "    r_new = np.zeros((0,3))\n",
    "    q = np.zeros((r.shape[0],))\n",
    "    \n",
    "    for j in range(r.shape[0]):\n",
    "        \n",
    "        # branching factor\n",
    "        q[j] = np.exp(-dt * (pot(r[j,:]) - E_T))\n",
    "        \n",
    "        # branching\n",
    "        if q[j] - int(q[j]) > random.uniform():\n",
    "            count_new = int(q[j]) + 1\n",
    "        else:\n",
    "            count_new = int(q[j])\n",
    "            \n",
    "        # generate new walker array\n",
    "        for c in range(count_new):\n",
    "            r_new = np.append(r_new,r[j:j+1,:],axis=0)\n",
    "            \n",
    "    return r_new, r_new.shape[0]"
   ]
  },
  {
   "cell_type": "markdown",
   "metadata": {},
   "source": [
    "In the **adjustment step**, the value of $E_T$ is adjusted to drive the number of walkers towards the desired number $N_T$. If $N > N_T$, the number of walkers is too high. We therefore increase $E_T$, reducing $q$ and the number of walkers. If, on the other hand, $N < N_T$, walkers need to be created. Then, $E_T$ is decreased, increasing $q$ as well as the number of walkers. The factor $\\alpha$ controls the rate of change and has to be adjusted according to the simulation settings.\n",
    "\n",
    "$$E_T \\rightarrow E_T + \\alpha \\ln \\left( \\frac{N_T}{N} \\right)$$"
   ]
  },
  {
   "cell_type": "code",
   "execution_count": 6,
   "metadata": {
    "collapsed": true
   },
   "outputs": [],
   "source": [
    "def adjust(N_T, N):\n",
    "    return alpha * np.log(N_T / float(N))"
   ]
  },
  {
   "cell_type": "markdown",
   "metadata": {},
   "source": [
    "During each step of the production phase, the data is **accumulated** to evaluate the energy, energy variance and wave function $\\psi$."
   ]
  },
  {
   "cell_type": "code",
   "execution_count": 12,
   "metadata": {
    "collapsed": true
   },
   "outputs": [],
   "source": [
    "class Accumulator(object):\n",
    "    def __init__(self):\n",
    "        self.E_sum = 0\n",
    "        self.E_squared_sum = 0\n",
    "        self.r_max = 4.0\n",
    "        self.N_psi = 100\n",
    "        self.psi = np.zeros((self.N_psi,))\n",
    "        \n",
    "    def reset(self):\n",
    "        self.E_sum = 0\n",
    "        self.E_squared_sum = 0\n",
    "        self.psi = np.zeros((self.N_psi,))\n",
    "        \n",
    "    def handle_data(self, E_T, r):\n",
    "        self.E_sum += E_T\n",
    "        self.E_squared_sum += E_T**2\n",
    "    \n",
    "        for j in range(r.shape[0]):\n",
    "            r_squared = r[j,:].dot(r[j,:])\n",
    "            i_bin = int(np.sqrt(r_squared) / self.r_max * self.N_psi)\n",
    "            if i_bin < self.N_psi:\n",
    "                self.psi[i_bin] += 1"
   ]
  },
  {
   "cell_type": "code",
   "execution_count": 13,
   "metadata": {
    "collapsed": false,
    "scrolled": false
   },
   "outputs": [],
   "source": [
    "# Initialize walkers\n",
    "r = np.zeros((N_T, 3))\n",
    "N = N_T\n",
    "E_T = 0 # initial guess for the ground state energy\n",
    "\n",
    "thermal_steps = int(0.2*T_steps)\n",
    "\n",
    "acc = Accumulator()\n",
    "\n",
    "# Time step\n",
    "for i in range(thermal_steps+T_steps):\n",
    "    # Diffusion step\n",
    "    r = diffusion(r, dt)\n",
    "    \n",
    "    # Branching step\n",
    "    r, N = branching(r, E_T, dt)\n",
    "    \n",
    "    # Adjustment\n",
    "    E_T += adjust(N_T, N)\n",
    "    \n",
    "    # Accumulation\n",
    "    if i == thermal_steps:\n",
    "        acc.reset()   \n",
    "    acc.handle_data(E_T, r)"
   ]
  },
  {
   "cell_type": "code",
   "execution_count": 14,
   "metadata": {
    "collapsed": false,
    "scrolled": false
   },
   "outputs": [
    {
     "name": "stdout",
     "output_type": "stream",
     "text": [
      "1.49951719539\n",
      "2.3538065088\n",
      "[  3.00000000e+01   1.76000000e+02   5.40000000e+02   9.94000000e+02\n",
      "   1.65400000e+03   2.49000000e+03   3.47100000e+03   4.47500000e+03\n",
      "   5.72900000e+03   7.10900000e+03   8.37300000e+03   9.92700000e+03\n",
      "   1.16070000e+04   1.30880000e+04   1.47570000e+04   1.65980000e+04\n",
      "   1.81250000e+04   1.99200000e+04   2.17630000e+04   2.33340000e+04\n",
      "   2.48960000e+04   2.63790000e+04   2.80580000e+04   2.95910000e+04\n",
      "   3.07790000e+04   3.23110000e+04   3.30980000e+04   3.40750000e+04\n",
      "   3.52150000e+04   3.57810000e+04   3.68720000e+04   3.69170000e+04\n",
      "   3.73590000e+04   3.77020000e+04   3.80420000e+04   3.80870000e+04\n",
      "   3.78090000e+04   3.74840000e+04   3.78460000e+04   3.66360000e+04\n",
      "   3.64260000e+04   3.60240000e+04   3.49670000e+04   3.43890000e+04\n",
      "   3.33940000e+04   3.23210000e+04   3.14250000e+04   3.02350000e+04\n",
      "   2.93800000e+04   2.84560000e+04   2.71830000e+04   2.59810000e+04\n",
      "   2.44080000e+04   2.34970000e+04   2.28360000e+04   2.13980000e+04\n",
      "   1.99170000e+04   1.89320000e+04   1.75670000e+04   1.64510000e+04\n",
      "   1.57930000e+04   1.44950000e+04   1.35070000e+04   1.25130000e+04\n",
      "   1.18450000e+04   1.08670000e+04   9.98200000e+03   9.41400000e+03\n",
      "   8.45200000e+03   7.86400000e+03   7.13600000e+03   6.48500000e+03\n",
      "   6.00800000e+03   5.53000000e+03   5.03100000e+03   4.47300000e+03\n",
      "   4.07400000e+03   3.75800000e+03   3.49300000e+03   2.96100000e+03\n",
      "   2.66400000e+03   2.49000000e+03   2.13900000e+03   1.98400000e+03\n",
      "   1.73500000e+03   1.59500000e+03   1.33800000e+03   1.29700000e+03\n",
      "   1.08400000e+03   9.68000000e+02   8.34000000e+02   7.79000000e+02\n",
      "   7.02000000e+02   5.81000000e+02   4.94000000e+02   4.41000000e+02\n",
      "   3.58000000e+02   3.16000000e+02   2.79000000e+02   2.35000000e+02]\n"
     ]
    }
   ],
   "source": [
    "E_avg = acc.E_sum/T_steps\n",
    "E_var = acc.E_squared_sum/T_steps - E_avg**2\n",
    "\n",
    "print E_avg\n",
    "print E_var\n",
    "print acc.psi"
   ]
  },
  {
   "cell_type": "code",
   "execution_count": 15,
   "metadata": {
    "collapsed": false,
    "scrolled": true
   },
   "outputs": [
    {
     "data": {
      "image/png": "[encoded data removed]",
      "text/plain": [
       "<matplotlib.figure.Figure at 0x105464290>"
      ]
     },
     "metadata": {},
     "output_type": "display_data"
    }
   ],
   "source": [
    "plt.plot(acc.psi)\n",
    "plt.show()"
   ]
  },
  {
   "cell_type": "markdown",
   "metadata": {},
   "source": [
    "# Diffusion Monte Carlo for Optimization"
   ]
  }
 ],
 "metadata": {
  "kernelspec": {
   "display_name": "Python 2",
   "language": "python",
   "name": "python2"
  },
  "language_info": {
   "codemirror_mode": {
    "name": "ipython",
    "version": 2
   },
   "file_extension": ".py",
   "mimetype": "text/x-python",
   "name": "python",
   "nbconvert_exporter": "python",
   "pygments_lexer": "ipython2",
   "version": "2.7.10"
  }
 },
 "nbformat": 4,
 "nbformat_minor": 0
}
