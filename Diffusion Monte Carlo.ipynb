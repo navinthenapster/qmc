{
 "cells": [
  {
   "cell_type": "markdown",
   "metadata": {},
   "source": [
    "# Diffusion Monte Carlo Method"
   ]
  },
  {
   "cell_type": "markdown",
   "metadata": {},
   "source": [
    "Description of theory and stuff"
   ]
  },
  {
   "cell_type": "markdown",
   "metadata": {},
   "source": [
    "A diffusion monte carlo simulation for the 3-dimensional harmonic oscillator, ground state energy and wave function \n",
    "\n",
    "$$E_0 = \\frac{2}{3}, \\hspace{2em} \\psi_0 = \\frac{e^{-r^2/2}}{(2\\pi)^{3/2}}$$\n",
    "\n",
    "using $m=\\omega=\\hbar=1$"
   ]
  },
  {
   "cell_type": "code",
   "execution_count": 1,
   "metadata": {
    "collapsed": true
   },
   "outputs": [],
   "source": [
    "import numpy as np\n",
    "import numpy.random as random\n",
    "\n",
    "dim = 3"
   ]
  },
  {
   "cell_type": "markdown",
   "metadata": {},
   "source": [
    "Potential of the harmonic oscillator in three dimensions\n",
    "\n",
    "$$V(\\mathbf x) = \\frac{1}{2}\\mathbf x ^2$$"
   ]
  },
  {
   "cell_type": "code",
   "execution_count": 2,
   "metadata": {
    "collapsed": true
   },
   "outputs": [],
   "source": [
    "def pot(x):\n",
    "    return 0.5 * x.dot(x)"
   ]
  },
  {
   "cell_type": "markdown",
   "metadata": {},
   "source": [
    "Set the time step size, the target number of walkers as well as the target number of time steps"
   ]
  },
  {
   "cell_type": "code",
   "execution_count": 3,
   "metadata": {
    "collapsed": true
   },
   "outputs": [],
   "source": [
    "dt = 0.05\n",
    "N_T = 300\n",
    "T_steps = 4000\n",
    "alpha = 0.1"
   ]
  },
  {
   "cell_type": "markdown",
   "metadata": {},
   "source": [
    "The first 20% of the time steps are used as thermalization steps, after that, the measured values are reset and the real simulation continues"
   ]
  },
  {
   "cell_type": "markdown",
   "metadata": {},
   "source": [
    "In a timestep\n",
    "1. Compute one DMC step on each walker\n",
    "2. Remove dead walkers\n",
    "3. Adjust $E_T$ to drive $N$ towards $N_T$\n",
    "4. Accumulate data to measure $\\left<E\\right>$, its variance and the ground state wave function"
   ]
  },
  {
   "cell_type": "code",
   "execution_count": 10,
   "metadata": {
    "collapsed": false,
    "scrolled": true
   },
   "outputs": [
    {
     "name": "stdout",
     "output_type": "stream",
     "text": [
      "0 300\n",
      "100 291\n",
      "200 183\n",
      "300 226\n",
      "400 254\n",
      "500 293\n",
      "600 516\n",
      "700 685\n",
      "800 829\n",
      "900 625\n",
      "1000 215\n",
      "1100 114\n",
      "1200 128\n",
      "1300 307\n",
      "1400 567\n",
      "1500 712\n",
      "1600 710\n",
      "1700 381\n",
      "1800 231\n",
      "1900 154\n",
      "2000 179\n",
      "2100 249\n",
      "2200 361\n",
      "2300 380\n",
      "2400 314\n",
      "2500 375\n",
      "2600 292\n",
      "2700 229\n",
      "2800 179\n",
      "2900 235\n",
      "3000 333\n",
      "3100 444\n",
      "3200 418\n",
      "3300 328\n",
      "3400 175\n",
      "3500 156\n",
      "3600 206\n",
      "3700 335\n",
      "3800 533\n",
      "3900 394\n",
      "4000 322\n",
      "4100 228\n",
      "4200 163\n",
      "4300 261\n",
      "4400 419\n",
      "4500 657\n",
      "4600 513\n",
      "4700 334\n",
      "1.49575883505\n",
      "0.472570568018\n",
      "[  2.40000000e+01   1.90000000e+02   4.34000000e+02   8.66000000e+02\n",
      "   1.37300000e+03   2.04000000e+03   2.82200000e+03   3.80300000e+03\n",
      "   4.69400000e+03   5.92700000e+03   7.08600000e+03   8.24900000e+03\n",
      "   9.73900000e+03   1.08460000e+04   1.23890000e+04   1.38920000e+04\n",
      "   1.50960000e+04   1.68140000e+04   1.81280000e+04   1.97330000e+04\n",
      "   2.14040000e+04   2.25250000e+04   2.40120000e+04   2.49190000e+04\n",
      "   2.61270000e+04   2.74020000e+04   2.81520000e+04   2.90110000e+04\n",
      "   2.96820000e+04   3.05250000e+04   3.12160000e+04   3.16570000e+04\n",
      "   3.18570000e+04   3.20550000e+04   3.23390000e+04   3.22810000e+04\n",
      "   3.20690000e+04   3.19570000e+04   3.14840000e+04   3.11830000e+04\n",
      "   3.07220000e+04   3.01400000e+04   2.94540000e+04   2.89450000e+04\n",
      "   2.80930000e+04   2.72440000e+04   2.61230000e+04   2.54970000e+04\n",
      "   2.47780000e+04   2.37910000e+04   2.26700000e+04   2.14410000e+04\n",
      "   2.07210000e+04   1.94820000e+04   1.88220000e+04   1.76980000e+04\n",
      "   1.65650000e+04   1.56630000e+04   1.48890000e+04   1.39010000e+04\n",
      "   1.29780000e+04   1.20770000e+04   1.13440000e+04   1.06580000e+04\n",
      "   9.74400000e+03   9.13200000e+03   8.27900000e+03   7.74900000e+03\n",
      "   7.24900000e+03   6.71700000e+03   5.96500000e+03   5.62200000e+03\n",
      "   5.21100000e+03   4.62500000e+03   4.19200000e+03   3.88300000e+03\n",
      "   3.38000000e+03   3.21600000e+03   2.86100000e+03   2.59400000e+03\n",
      "   2.38400000e+03   1.95800000e+03   1.81100000e+03   1.66400000e+03\n",
      "   1.46900000e+03   1.34400000e+03   1.15100000e+03   9.71000000e+02\n",
      "   9.18000000e+02   8.38000000e+02   7.21000000e+02   6.59000000e+02\n",
      "   5.50000000e+02   4.90000000e+02   4.05000000e+02   3.79000000e+02\n",
      "   3.17000000e+02   2.82000000e+02   2.37000000e+02   2.28000000e+02]\n"
     ]
    }
   ],
   "source": [
    "# Initialize walkers\n",
    "r = np.zeros((N_T, 3))\n",
    "N = N_T\n",
    "E_T = 0 # initial guess for the ground state energy\n",
    "\n",
    "thermal_steps = int(0.2*T_steps)\n",
    "\n",
    "# Initialize accumulators\n",
    "E_sum = 0\n",
    "E_squared_sum = 0\n",
    "r_max = 4.0\n",
    "N_psi = 100\n",
    "psi = np.zeros((N_psi,))\n",
    "\n",
    "# Time step\n",
    "for i in range(thermal_steps+T_steps):\n",
    "    if i % 100 == 0:\n",
    "        print i, N\n",
    "    \n",
    "    N_0 = N\n",
    "    \n",
    "    r_new = np.zeros((0,3))\n",
    "    \n",
    "    # Diffusion step\n",
    "    r += random.normal(size=(N_0,3)) * np.sqrt(dt)\n",
    "    \n",
    "    # Branching step\n",
    "    #q = np.apply_along_axis(lambda x: np.exp(-dt * (pot(x) - E_T)), 1, r)\n",
    "    \n",
    "    q = np.zeros((N_0,))\n",
    "    \n",
    "    for j in range(N_0):\n",
    "        # Branching\n",
    "        q[j] = np.exp(-dt * (pot(r[j,:]) - E_T))\n",
    "        \n",
    "        if q[j] - int(q[j]) > random.uniform():\n",
    "            count_new = int(q[j]) + 1\n",
    "        else:\n",
    "            count_new = int(q[j])\n",
    "        for c in range(count_new):\n",
    "            r_new = np.append(r_new,r[j:j+1,:],axis=0)\n",
    "            \n",
    "    N = r_new.shape[0s]\n",
    "    r = r_new\n",
    "    \n",
    "    E_T += alpha * np.log(N_T / float(N))\n",
    "    \n",
    "    if i == thermal_steps:\n",
    "        E_sum = 0\n",
    "        E_squared_sum = 0\n",
    "        psi = np.zeros((N_psi,))\n",
    "        \n",
    "    E_sum += E_T\n",
    "    E_squared_sum += E_T**2\n",
    "    \n",
    "    for j in range(N):\n",
    "        r_squared = r[j,:].dot(r[j,:])\n",
    "        i_bin = int(np.sqrt(r_squared) / r_max * N_psi)\n",
    "        if i_bin < N_psi:\n",
    "            psi[i_bin] += 1\n",
    "        \n",
    "\n",
    "E_avg = E_sum/T_steps\n",
    "E_var = E_squared_sum/T_steps - E_avg**2\n",
    "\n",
    "print E_avg\n",
    "print E_var\n",
    "print psi"
   ]
  },
  {
   "cell_type": "code",
   "execution_count": 8,
   "metadata": {
    "collapsed": false,
    "scrolled": false
   },
   "outputs": [
    {
     "data": {
      "image/png": "[encoded data removed]",
      "text/plain": [
       "<matplotlib.figure.Figure at 0x10544ccd0>"
      ]
     },
     "metadata": {},
     "output_type": "display_data"
    }
   ],
   "source": [
    "a = \"\"\"3.90000000e+01   2.53000000e+02   7.80000000e+02   1.47600000e+03\n",
    "   2.39600000e+03   3.71700000e+03   5.16500000e+03   6.49400000e+03\n",
    "   8.35300000e+03   1.03010000e+04   1.22080000e+04   1.43960000e+04\n",
    "   1.68700000e+04   1.91420000e+04   2.15770000e+04   2.41190000e+04\n",
    "   2.63760000e+04   2.87790000e+04   3.15570000e+04   3.37930000e+04\n",
    "   3.64260000e+04   3.86690000e+04   4.06720000e+04   4.24840000e+04\n",
    "   4.45320000e+04   4.61140000e+04   4.77090000e+04   4.91220000e+04\n",
    "   5.04690000e+04   5.16720000e+04   5.23950000e+04   5.30780000e+04\n",
    "   5.38570000e+04   5.38050000e+04   5.35980000e+04   5.45640000e+04\n",
    "   5.39860000e+04   5.37350000e+04   5.32180000e+04   5.27220000e+04\n",
    "   5.22350000e+04   5.10670000e+04   4.99930000e+04   4.91500000e+04\n",
    "   4.78540000e+04   4.67690000e+04   4.48690000e+04   4.35410000e+04\n",
    "   4.19580000e+04   4.01090000e+04   3.87110000e+04   3.71870000e+04\n",
    "   3.52550000e+04   3.37270000e+04   3.22670000e+04   3.07420000e+04\n",
    "   2.86550000e+04   2.66440000e+04   2.54190000e+04   2.38670000e+04\n",
    "   2.24720000e+04   2.10260000e+04   1.95710000e+04   1.82720000e+04\n",
    "   1.67690000e+04   1.57730000e+04   1.43190000e+04   1.32270000e+04\n",
    "   1.24010000e+04   1.12960000e+04   1.03050000e+04   9.54300000e+03\n",
    "   8.72000000e+03   7.97000000e+03   7.23500000e+03   6.50700000e+03\n",
    "   5.89300000e+03   5.43900000e+03   4.96800000e+03   4.53000000e+03\n",
    "   4.08900000e+03   3.64900000e+03   3.34100000e+03   2.94800000e+03\n",
    "   2.55700000e+03   2.28200000e+03   2.01200000e+03   1.86300000e+03\n",
    "   1.63500000e+03   1.31000000e+03   1.24100000e+03   1.09900000e+03\n",
    "   9.61000000e+02   8.83000000e+02   7.49000000e+02   6.77000000e+02\n",
    "   6.07000000e+02   4.88000000e+02   4.42000000e+02   3.48000000e+02\"\"\"\n",
    "\n",
    "a = a.split(\" \")\n",
    "a = [float(item) for item in a if item != '']\n",
    "\n",
    "import matplotlib.pyplot as plt\n",
    "%matplotlib inline\n",
    "\n",
    "plt.plot(a)\n",
    "plt.show()"
   ]
  }
 ],
 "metadata": {
  "kernelspec": {
   "display_name": "Python 2",
   "language": "python",
   "name": "python2"
  },
  "language_info": {
   "codemirror_mode": {
    "name": "ipython",
    "version": 2
   },
   "file_extension": ".py",
   "mimetype": "text/x-python",
   "name": "python",
   "nbconvert_exporter": "python",
   "pygments_lexer": "ipython2",
   "version": "2.7.10"
  }
 },
 "nbformat": 4,
 "nbformat_minor": 0
}
