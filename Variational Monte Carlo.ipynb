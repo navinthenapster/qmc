{
 "cells": [
  {
   "cell_type": "markdown",
   "metadata": {},
   "source": [
    "# Quantum Monte Carlo for Optimization"
   ]
  },
  {
   "cell_type": "markdown",
   "metadata": {},
   "source": [
    "Quantum Monte Carlo methods were originally developed to solve the Schrödinger equation for many-body systems, which cannot be exactly solved by numerical means. While for simple systems, such as the Hydrogen atom, exact solutions can be calculated, the interaction terms prevent closed solutions for systems with more electrons starting with simple systems like the Helium atom. While mean-field approaches present one solution to the problem, a better way would be to calculate the particle-interations. QMC methods rely on Monte Carlo methods for integration to solve the high-dimensional integrals present in calculations of many-body systems. \n",
    "\n",
    "Different approaches exist to apply Monte Carlo thechniques to quantum systems, here we discuss methods find the ground state wave function of a quantum systems. The *variational Monte Carlo* (VMC) approach uses a trial function with adjustable parameters to model the ground state wave function, optimizing the parameters with a Metropolis algorithm and calculating the integrals using Monte Carlo methods. The *diffusion Monte Carlo* (DMC) approach transforms the Schrödinger equation via imaginary time propagation into a diffusion equation, using a classical diffusion process and monte carlo walkers to calculate quantum mechanical properties.\n",
    "\n",
    "Quantum Monte Carlo methods retrieve a wave function, the ground wave function, based on minimizing the energy as the optimization criterion. Thus, both algorithms are in principle suited for optimization purposes. The feasibility of applying VMC and DMC approaches to general optimization problems is investigated in the last part of this section."
   ]
  },
  {
   "cell_type": "markdown",
   "metadata": {},
   "source": [
    "## Variational Monte Carlo"
   ]
  },
  {
   "cell_type": "markdown",
   "metadata": {},
   "source": [
    "The variational theorem, eigenfunction of quantum mechanical problems are complete, any wave function $\\Psi(x)$ can be expressed as a linear superposition\n",
    "\n",
    "$$\\Psi(x) = \\sum_n c_n \\psi_n(x)$$\n",
    "\n",
    "with $c_n$ complex amplitudes. The average energy of a particle with a given Hamiltonian $H$ is calculated by\n",
    "\n",
    "$$\\left< E \\right> = \\frac{\\int \\mathrm dx \\Psi^*(x)H\\Psi(x) }{\\int \\mathrm dx\\Psi^*(x)\\Psi(x)}$$\n",
    "\n",
    "There exists an energy $E_0$ such that $\\left<E\\right> \\ge E_0$ for all $\\Psi$ and $\\left<E\\right> = E_0$ for the ground state wave function $\\Psi_0$.\n",
    "\n",
    "The variational quantum monte carlo method now chooses a trial wave function $\\Psi_\\alpha$, which depends on the parameter $\\alpha$. The expectation value of the energy $\\left<E\\right> = E_\\alpha$ now depends on the parameter alpha, which can be varied to minimize $E_\\alpha$. This energy then represents the best estimate for the ground state energy. "
   ]
  },
  {
   "cell_type": "code",
   "execution_count": 12,
   "metadata": {
    "collapsed": true
   },
   "outputs": [],
   "source": [
    "import numpy as np\n",
    "import numpy.random as random"
   ]
  },
  {
   "cell_type": "code",
   "execution_count": 24,
   "metadata": {
    "collapsed": true
   },
   "outputs": [],
   "source": [
    "N = 10 # number of walkers\n",
    "delta = 0.1 # step size"
   ]
  },
  {
   "cell_type": "markdown",
   "metadata": {},
   "source": [
    "Observabes"
   ]
  },
  {
   "cell_type": "code",
   "execution_count": 32,
   "metadata": {
    "collapsed": false
   },
   "outputs": [],
   "source": [
    "energy = 0.0\n",
    "energy_squared = 0.0\n",
    "x = np.zeros((N,))\n",
    "x_min = -10\n",
    "x_max = 10\n",
    "dx = 0.1\n",
    "n_psi_squared = 10\n",
    "psi_squared = np.zeros((n_psi_squared,))"
   ]
  },
  {
   "cell_type": "code",
   "execution_count": 53,
   "metadata": {
    "collapsed": false
   },
   "outputs": [],
   "source": [
    "x = random.uniform(-0.5, 0.5, (10,))\n",
    "delta = 1\n",
    "n_psi_squared = int((x_max - x_min) / dx)\n",
    "psi_squred = np.zeros((n_psi_squared,))"
   ]
  },
  {
   "cell_type": "code",
   "execution_count": null,
   "metadata": {
    "collapsed": true
   },
   "outputs": [],
   "source": [
    "alpha = 0.5"
   ]
  },
  {
   "cell_type": "code",
   "execution_count": 54,
   "metadata": {
    "collapsed": false
   },
   "outputs": [],
   "source": [
    "def p(x_trial, x, alpha):\n",
    "    return np.exp(-2 * alpha * (x_trial**2-x**2))\n",
    "\n",
    "def energy(x, alpha):\n",
    "    return alpha + x**2 * (0.5 - 2.0 * alpha**2)"
   ]
  },
  {
   "cell_type": "markdown",
   "metadata": {},
   "source": [
    "## Diffusion Monte Carlo"
   ]
  },
  {
   "cell_type": "markdown",
   "metadata": {},
   "source": [
    "*see next notebook*"
   ]
  }
 ],
 "metadata": {
  "kernelspec": {
   "display_name": "Python 2",
   "language": "python",
   "name": "python2"
  },
  "language_info": {
   "codemirror_mode": {
    "name": "ipython",
    "version": 2
   },
   "file_extension": ".py",
   "mimetype": "text/x-python",
   "name": "python",
   "nbconvert_exporter": "python",
   "pygments_lexer": "ipython2",
   "version": "2.7.10"
  }
 },
 "nbformat": 4,
 "nbformat_minor": 0
}
