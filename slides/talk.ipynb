{
 "cells": [
  {
   "cell_type": "markdown",
   "metadata": {},
   "source": [
    "# Quantum Monte Carlo"
   ]
  },
  {
   "cell_type": "markdown",
   "metadata": {},
   "source": [
    "## Intro\n",
    "\n",
    "Apply monte carlo techniques to solve quantum mechanical calculations such as the finding the ground state of a quantum system. Monte carlo methods are used to solve the high-dimensional integrals of quantum problems. \n",
    "\n",
    "- *Variational monte carlo*: Use a parametrized trial function and optimize it\n",
    "- *Diffusion monte carlo*: Exploit the similarity between the Schrödinger equation and a diffusion equation, using monte carlo methods to simulate a classical diffusion\n",
    "- *Path-integral monte carlo*: Path integrals map a quantum problem onto a classical system with an increased number of dimensions. The classical many-particle system can be analyzed using monte carlo integration."
   ]
  },
  {
   "cell_type": "markdown",
   "metadata": {},
   "source": [
    "## Variational monte carlo methods\n",
    "\n",
    "Use a variational method to find the ground state of a Hamiltonian. Use a trial function with a parameter or multiple parameters and optimize them such that the total energy is at its minimum. To calculate the expectation value of the energy, a high dimensional integral has to be solved for many-body systems. Use monte carlo integration for this calculation. \n",
    "\n",
    "### Variational method\n",
    "\n",
    "1. Construct a trial wave function "
   ]
  }
 ],
 "metadata": {
  "kernelspec": {
   "display_name": "Python 2",
   "language": "python",
   "name": "python2"
  },
  "language_info": {
   "codemirror_mode": {
    "name": "ipython",
    "version": 2
   },
   "file_extension": ".py",
   "mimetype": "text/x-python",
   "name": "python",
   "nbconvert_exporter": "python",
   "pygments_lexer": "ipython2",
   "version": "2.7.10"
  }
 },
 "nbformat": 4,
 "nbformat_minor": 0
}
