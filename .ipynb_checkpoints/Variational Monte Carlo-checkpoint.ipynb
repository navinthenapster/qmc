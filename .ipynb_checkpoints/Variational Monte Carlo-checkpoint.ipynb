{
 "cells": [
  {
   "cell_type": "markdown",
   "metadata": {},
   "source": [
    "# Quantum Monte Carlo for Optimization"
   ]
  },
  {
   "cell_type": "markdown",
   "metadata": {},
   "source": [
    "The variational theorem, eigenfunction of quantum mechanical problems are complete, any wave function $\\Psi(x)$ can be expressed as a linear superposition\n",
    "\n",
    "$$\\Psi(x) = \\sum_n c_n \\psi_n(x)$$\n",
    "\n",
    "with $c_n$ complex amplitudes. The average energy of a particle with a given Hamiltonian $H$ is calculated by\n",
    "\n",
    "$$\\left< E \\right> = \\frac{\\int \\mathrm dx \\Psi^*(x)H\\Psi(x) }{\\int \\mathrm dx\\Psi^*(x)\\Psi(x)}$$\n",
    "\n",
    "There exists an energy $E_0$ such that $\\left<E\\right> \\ge E_0$ for all $\\Psi$ and $\\left<E\\right> = E_0$ for the ground state wave function $\\Psi_0$.\n",
    "\n",
    "The variational quantum monte carlo method now chooses a trial wave function $\\Psi_\\alpha$, which depends on the parameter $\\alpha$. The expectation value of the energy $\\left<E\\right> = E_\\alpha$ now depends on the parameter alpha, which can be varied to minimize $E_\\alpha$. This energy then represents the best estimate for the ground state energy. "
   ]
  },
  {
   "cell_type": "code",
   "execution_count": 12,
   "metadata": {
    "collapsed": true
   },
   "outputs": [],
   "source": [
    "import numpy as np\n",
    "import numpy.random as random"
   ]
  },
  {
   "cell_type": "code",
   "execution_count": 24,
   "metadata": {
    "collapsed": true
   },
   "outputs": [],
   "source": [
    "N = 10 # number of walkers\n",
    "delta = 0.1 # step size"
   ]
  },
  {
   "cell_type": "markdown",
   "metadata": {},
   "source": [
    "Observabes"
   ]
  },
  {
   "cell_type": "code",
   "execution_count": 32,
   "metadata": {
    "collapsed": false
   },
   "outputs": [],
   "source": [
    "energy = 0.0\n",
    "energy_squared = 0.0\n",
    "x = np.zeros((N,))\n",
    "x_min = -10\n",
    "x_max = 10\n",
    "dx = 0.1\n",
    "n_psi_squared = 10\n",
    "psi_squared = np.zeros((n_psi_squared,))"
   ]
  },
  {
   "cell_type": "code",
   "execution_count": 53,
   "metadata": {
    "collapsed": false
   },
   "outputs": [],
   "source": [
    "x = random.uniform(-0.5, 0.5, (10,))\n",
    "delta = 1\n",
    "n_psi_squared = int((x_max - x_min) / dx)\n",
    "psi_squred = np.zeros((n_psi_squared,))"
   ]
  },
  {
   "cell_type": "code",
   "execution_count": null,
   "metadata": {
    "collapsed": true
   },
   "outputs": [],
   "source": [
    "alpha = 0.5"
   ]
  },
  {
   "cell_type": "code",
   "execution_count": 54,
   "metadata": {
    "collapsed": false
   },
   "outputs": [],
   "source": [
    "def p(x_trial, x, alpha):\n",
    "    return np.exp(-2 * alpha * (x_trial**2-x**2))\n",
    "\n",
    "def energy(x, alpha):\n",
    "    return alpha + x**2 * (0.5 - 2.0 * alpha**2)"
   ]
  }
 ],
 "metadata": {
  "kernelspec": {
   "display_name": "Python 2",
   "language": "python",
   "name": "python2"
  },
  "language_info": {
   "codemirror_mode": {
    "name": "ipython",
    "version": 2
   },
   "file_extension": ".py",
   "mimetype": "text/x-python",
   "name": "python",
   "nbconvert_exporter": "python",
   "pygments_lexer": "ipython2",
   "version": "2.7.10"
  }
 },
 "nbformat": 4,
 "nbformat_minor": 0
}
